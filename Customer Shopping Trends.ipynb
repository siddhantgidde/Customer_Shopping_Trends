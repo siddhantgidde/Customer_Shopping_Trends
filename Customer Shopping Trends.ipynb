{
    "metadata": {
        "kernelspec": {
            "name": "SQL",
            "display_name": "SQL",
            "language": "sql"
        },
        "language_info": {
            "name": "sql",
            "version": ""
        }
    },
    "nbformat_minor": 2,
    "nbformat": 4,
    "cells": [
        {
            "cell_type": "markdown",
            "source": [
                "# **Project 1 Customer Shopping Trends**"
            ],
            "metadata": {
                "azdata_cell_guid": "2fdbf699-5c08-43cb-a333-edd7a3861bfd"
            },
            "attachments": {}
        },
        {
            "cell_type": "markdown",
            "source": [
                "## 1\\. Total Numbers of Purchases?"
            ],
            "metadata": {
                "azdata_cell_guid": "5d751ccc-6178-4493-8745-83ebe8ffa453"
            },
            "attachments": {}
        },
        {
            "cell_type": "code",
            "source": [
                "SELECT COUNT(Customer_ID) AS total_customers\r\n",
                "FROM shopping_trends"
            ],
            "metadata": {
                "azdata_cell_guid": "5ba89828-e017-4558-80e4-a381c700ef9b",
                "language": "sql"
            },
            "outputs": [
                {
                    "output_type": "display_data",
                    "data": {
                        "text/html": "(1 row affected)"
                    },
                    "metadata": {}
                },
                {
                    "output_type": "display_data",
                    "data": {
                        "text/html": "Total execution time: 00:00:00.092"
                    },
                    "metadata": {}
                },
                {
                    "output_type": "execute_result",
                    "metadata": {},
                    "execution_count": 1,
                    "data": {
                        "application/vnd.dataresource+json": {
                            "schema": {
                                "fields": [
                                    {
                                        "name": "total_customers"
                                    }
                                ]
                            },
                            "data": [
                                {
                                    "total_customers": "3900"
                                }
                            ]
                        },
                        "text/html": [
                            "<table>",
                            "<tr><th>total_customers</th></tr>",
                            "<tr><td>3900</td></tr>",
                            "</table>"
                        ]
                    }
                }
            ],
            "execution_count": 1
        },
        {
            "cell_type": "markdown",
            "source": [
                "## 2\\. Average reviews of Purchases?"
            ],
            "metadata": {
                "language": "sql",
                "azdata_cell_guid": "5181637b-dfc3-47cd-b97e-2fdec7a59c09"
            },
            "attachments": {}
        },
        {
            "cell_type": "code",
            "source": [
                "SELECT ROUND(AVG(Review_Rating),1) AS Average_review \r\n",
                "FROM shopping_trends"
            ],
            "metadata": {
                "language": "sql",
                "azdata_cell_guid": "afc02df5-c70f-49de-9904-f9919464aa62"
            },
            "outputs": [
                {
                    "output_type": "display_data",
                    "data": {
                        "text/html": "(1 row affected)"
                    },
                    "metadata": {}
                },
                {
                    "output_type": "display_data",
                    "data": {
                        "text/html": "Total execution time: 00:00:00.023"
                    },
                    "metadata": {}
                },
                {
                    "output_type": "execute_result",
                    "metadata": {},
                    "execution_count": 2,
                    "data": {
                        "application/vnd.dataresource+json": {
                            "schema": {
                                "fields": [
                                    {
                                        "name": "Average_review"
                                    }
                                ]
                            },
                            "data": [
                                {
                                    "Average_review": "3.7"
                                }
                            ]
                        },
                        "text/html": [
                            "<table>",
                            "<tr><th>Average_review</th></tr>",
                            "<tr><td>3.7</td></tr>",
                            "</table>"
                        ]
                    }
                }
            ],
            "execution_count": 2
        },
        {
            "cell_type": "markdown",
            "source": [
                "## 3\\. Which color of product was purchased the most?"
            ],
            "metadata": {
                "language": "sql",
                "azdata_cell_guid": "3c3ee812-ae2b-418a-8fa8-e1cb79a4a915"
            },
            "attachments": {}
        },
        {
            "cell_type": "code",
            "source": [
                "SELECT TOP 5 COUNT(*) AS customers,Color\r\n",
                "FROM shopping_trends\r\n",
                "GROUP BY Color\r\n",
                "ORDER BY customers DESC"
            ],
            "metadata": {
                "language": "sql",
                "azdata_cell_guid": "95db2cfe-58d0-4bf1-bfc3-2c4b6d9e1012"
            },
            "outputs": [
                {
                    "output_type": "display_data",
                    "data": {
                        "text/html": "(5 rows affected)"
                    },
                    "metadata": {}
                },
                {
                    "output_type": "display_data",
                    "data": {
                        "text/html": "Total execution time: 00:00:00.032"
                    },
                    "metadata": {}
                },
                {
                    "output_type": "execute_result",
                    "metadata": {},
                    "execution_count": 3,
                    "data": {
                        "application/vnd.dataresource+json": {
                            "schema": {
                                "fields": [
                                    {
                                        "name": "customers"
                                    },
                                    {
                                        "name": "Color"
                                    }
                                ]
                            },
                            "data": [
                                {
                                    "customers": "177",
                                    "Color": "Olive"
                                },
                                {
                                    "customers": "174",
                                    "Color": "Yellow"
                                },
                                {
                                    "customers": "173",
                                    "Color": "Silver"
                                },
                                {
                                    "customers": "172",
                                    "Color": "Teal"
                                },
                                {
                                    "customers": "169",
                                    "Color": "Green"
                                }
                            ]
                        },
                        "text/html": [
                            "<table>",
                            "<tr><th>customers</th><th>Color</th></tr>",
                            "<tr><td>177</td><td>Olive</td></tr>",
                            "<tr><td>174</td><td>Yellow</td></tr>",
                            "<tr><td>173</td><td>Silver</td></tr>",
                            "<tr><td>172</td><td>Teal</td></tr>",
                            "<tr><td>169</td><td>Green</td></tr>",
                            "</table>"
                        ]
                    }
                }
            ],
            "execution_count": 3
        },
        {
            "cell_type": "markdown",
            "source": [
                "## 4\\. Which size of product was purchased the most?"
            ],
            "metadata": {
                "language": "sql",
                "azdata_cell_guid": "12298038-20e4-454e-af6f-cc52c7a03cd1"
            },
            "attachments": {}
        },
        {
            "cell_type": "code",
            "source": [
                "SELECT COUNT(*) AS customers,Size\r\n",
                "FROM shopping_trends\r\n",
                "GROUP BY Size\r\n",
                "ORDER BY customers DESC"
            ],
            "metadata": {
                "language": "sql",
                "azdata_cell_guid": "5a248fe8-d3b6-413b-804a-411ebfe7e7a9"
            },
            "outputs": [
                {
                    "output_type": "display_data",
                    "data": {
                        "text/html": "(4 rows affected)"
                    },
                    "metadata": {}
                },
                {
                    "output_type": "display_data",
                    "data": {
                        "text/html": "Total execution time: 00:00:00.038"
                    },
                    "metadata": {}
                },
                {
                    "output_type": "execute_result",
                    "metadata": {},
                    "execution_count": 4,
                    "data": {
                        "application/vnd.dataresource+json": {
                            "schema": {
                                "fields": [
                                    {
                                        "name": "customers"
                                    },
                                    {
                                        "name": "Size"
                                    }
                                ]
                            },
                            "data": [
                                {
                                    "customers": "1755",
                                    "Size": "M"
                                },
                                {
                                    "customers": "1053",
                                    "Size": "L"
                                },
                                {
                                    "customers": "663",
                                    "Size": "S"
                                },
                                {
                                    "customers": "429",
                                    "Size": "XL"
                                }
                            ]
                        },
                        "text/html": [
                            "<table>",
                            "<tr><th>customers</th><th>Size</th></tr>",
                            "<tr><td>1755</td><td>M</td></tr>",
                            "<tr><td>1053</td><td>L</td></tr>",
                            "<tr><td>663</td><td>S</td></tr>",
                            "<tr><td>429</td><td>XL</td></tr>",
                            "</table>"
                        ]
                    }
                }
            ],
            "execution_count": 4
        },
        {
            "cell_type": "markdown",
            "source": [
                "## 5\\. Which city has the most purchases?"
            ],
            "metadata": {
                "language": "sql",
                "azdata_cell_guid": "4b8bef9e-0811-4655-b7b7-604b9685a0b0"
            },
            "attachments": {}
        },
        {
            "cell_type": "code",
            "source": [
                "SELECT TOP 5 COUNT(*) AS customers, Location\r\n",
                "FROM shopping_trends\r\n",
                "GROUP BY Location\r\n",
                "ORDER BY customers DESC"
            ],
            "metadata": {
                "language": "sql",
                "azdata_cell_guid": "a2808519-286f-466d-98cd-416ba48675fd"
            },
            "outputs": [
                {
                    "output_type": "display_data",
                    "data": {
                        "text/html": "(5 rows affected)"
                    },
                    "metadata": {}
                },
                {
                    "output_type": "display_data",
                    "data": {
                        "text/html": "Total execution time: 00:00:00.028"
                    },
                    "metadata": {}
                },
                {
                    "output_type": "execute_result",
                    "metadata": {},
                    "execution_count": 6,
                    "data": {
                        "application/vnd.dataresource+json": {
                            "schema": {
                                "fields": [
                                    {
                                        "name": "customers"
                                    },
                                    {
                                        "name": "Location"
                                    }
                                ]
                            },
                            "data": [
                                {
                                    "customers": "96",
                                    "Location": "Montana"
                                },
                                {
                                    "customers": "95",
                                    "Location": "California"
                                },
                                {
                                    "customers": "93",
                                    "Location": "Idaho"
                                },
                                {
                                    "customers": "92",
                                    "Location": "Illinois"
                                },
                                {
                                    "customers": "89",
                                    "Location": "Alabama"
                                }
                            ]
                        },
                        "text/html": [
                            "<table>",
                            "<tr><th>customers</th><th>Location</th></tr>",
                            "<tr><td>96</td><td>Montana</td></tr>",
                            "<tr><td>95</td><td>California</td></tr>",
                            "<tr><td>93</td><td>Idaho</td></tr>",
                            "<tr><td>92</td><td>Illinois</td></tr>",
                            "<tr><td>89</td><td>Alabama</td></tr>",
                            "</table>"
                        ]
                    }
                }
            ],
            "execution_count": 6
        },
        {
            "cell_type": "markdown",
            "source": [
                "## 6. At what age did customers purchased the most?"
            ],
            "metadata": {
                "language": "sql",
                "azdata_cell_guid": "fcbcb354-8eda-4cc2-960f-ef98fb490711"
            },
            "attachments": {}
        },
        {
            "cell_type": "code",
            "source": [
                "SELECT TOP 5 COUNT(*) AS customers,Age\r\n",
                "FROM shopping_trends\r\n",
                "GROUP BY Age\r\n",
                "ORDER BY customers DESC"
            ],
            "metadata": {
                "language": "sql",
                "azdata_cell_guid": "c7fd3782-fda5-4ce3-a069-774c82e30dd4"
            },
            "outputs": [
                {
                    "output_type": "display_data",
                    "data": {
                        "text/html": "(5 rows affected)"
                    },
                    "metadata": {}
                },
                {
                    "output_type": "display_data",
                    "data": {
                        "text/html": "Total execution time: 00:00:00.031"
                    },
                    "metadata": {}
                },
                {
                    "output_type": "execute_result",
                    "metadata": {},
                    "execution_count": 5,
                    "data": {
                        "application/vnd.dataresource+json": {
                            "schema": {
                                "fields": [
                                    {
                                        "name": "customers"
                                    },
                                    {
                                        "name": "Age"
                                    }
                                ]
                            },
                            "data": [
                                {
                                    "customers": "88",
                                    "Age": "69"
                                },
                                {
                                    "customers": "87",
                                    "Age": "57"
                                },
                                {
                                    "customers": "86",
                                    "Age": "41"
                                },
                                {
                                    "customers": "85",
                                    "Age": "25"
                                },
                                {
                                    "customers": "84",
                                    "Age": "49"
                                }
                            ]
                        },
                        "text/html": [
                            "<table>",
                            "<tr><th>customers</th><th>Age</th></tr>",
                            "<tr><td>88</td><td>69</td></tr>",
                            "<tr><td>87</td><td>57</td></tr>",
                            "<tr><td>86</td><td>41</td></tr>",
                            "<tr><td>85</td><td>25</td></tr>",
                            "<tr><td>84</td><td>49</td></tr>",
                            "</table>"
                        ]
                    }
                }
            ],
            "execution_count": 5
        },
        {
            "cell_type": "markdown",
            "source": [
                "## 7\\. Which category was purchased the most by customers?"
            ],
            "metadata": {
                "language": "sql",
                "azdata_cell_guid": "903ea1da-23be-4c47-a0f0-dc917648a745"
            },
            "attachments": {}
        },
        {
            "cell_type": "code",
            "source": [
                "SELECT COUNT(*) AS customers, Category\r\n",
                "FROM shopping_trends\r\n",
                "GROUP BY Category\r\n",
                "ORDER BY customers DESC"
            ],
            "metadata": {
                "language": "sql",
                "azdata_cell_guid": "529473f5-e28e-4490-9417-7d79263c7bb8"
            },
            "outputs": [
                {
                    "output_type": "display_data",
                    "data": {
                        "text/html": "(4 rows affected)"
                    },
                    "metadata": {}
                },
                {
                    "output_type": "display_data",
                    "data": {
                        "text/html": "Total execution time: 00:00:00.030"
                    },
                    "metadata": {}
                },
                {
                    "output_type": "execute_result",
                    "metadata": {},
                    "execution_count": 7,
                    "data": {
                        "application/vnd.dataresource+json": {
                            "schema": {
                                "fields": [
                                    {
                                        "name": "customers"
                                    },
                                    {
                                        "name": "Category"
                                    }
                                ]
                            },
                            "data": [
                                {
                                    "customers": "1737",
                                    "Category": "Clothing"
                                },
                                {
                                    "customers": "1240",
                                    "Category": "Accessories"
                                },
                                {
                                    "customers": "599",
                                    "Category": "Footwear"
                                },
                                {
                                    "customers": "324",
                                    "Category": "Outerwear"
                                }
                            ]
                        },
                        "text/html": [
                            "<table>",
                            "<tr><th>customers</th><th>Category</th></tr>",
                            "<tr><td>1737</td><td>Clothing</td></tr>",
                            "<tr><td>1240</td><td>Accessories</td></tr>",
                            "<tr><td>599</td><td>Footwear</td></tr>",
                            "<tr><td>324</td><td>Outerwear</td></tr>",
                            "</table>"
                        ]
                    }
                }
            ],
            "execution_count": 7
        },
        {
            "cell_type": "markdown",
            "source": [
                "## 8\\. What are the top 5 highest purchase amounts by customers?"
            ],
            "metadata": {
                "language": "sql",
                "azdata_cell_guid": "a90a7f9c-b2aa-4d43-84a2-a33ffe05e6d2"
            },
            "attachments": {}
        },
        {
            "cell_type": "code",
            "source": [
                "SELECT TOP 5 COUNT(*) AS customers,Purchase_Amount\r\n",
                "FROM shopping_trends\r\n",
                "GROUP BY Purchase_Amount\r\n",
                "ORDER BY Purchase_Amount DESC"
            ],
            "metadata": {
                "language": "sql",
                "azdata_cell_guid": "ed23b873-fd52-4535-a95f-b3b9350e9ce1"
            },
            "outputs": [
                {
                    "output_type": "display_data",
                    "data": {
                        "text/html": "(5 rows affected)"
                    },
                    "metadata": {}
                },
                {
                    "output_type": "display_data",
                    "data": {
                        "text/html": "Total execution time: 00:00:00.028"
                    },
                    "metadata": {}
                },
                {
                    "output_type": "execute_result",
                    "metadata": {},
                    "execution_count": 8,
                    "data": {
                        "application/vnd.dataresource+json": {
                            "schema": {
                                "fields": [
                                    {
                                        "name": "customers"
                                    },
                                    {
                                        "name": "Purchase_Amount"
                                    }
                                ]
                            },
                            "data": [
                                {
                                    "customers": "36",
                                    "Purchase_Amount": "100"
                                },
                                {
                                    "customers": "52",
                                    "Purchase_Amount": "99"
                                },
                                {
                                    "customers": "52",
                                    "Purchase_Amount": "98"
                                },
                                {
                                    "customers": "55",
                                    "Purchase_Amount": "97"
                                },
                                {
                                    "customers": "53",
                                    "Purchase_Amount": "96"
                                }
                            ]
                        },
                        "text/html": [
                            "<table>",
                            "<tr><th>customers</th><th>Purchase_Amount</th></tr>",
                            "<tr><td>36</td><td>100</td></tr>",
                            "<tr><td>52</td><td>99</td></tr>",
                            "<tr><td>52</td><td>98</td></tr>",
                            "<tr><td>55</td><td>97</td></tr>",
                            "<tr><td>53</td><td>96</td></tr>",
                            "</table>"
                        ]
                    }
                }
            ],
            "execution_count": 8
        },
        {
            "cell_type": "markdown",
            "source": [
                "## 9\\. Which shopping type is preferred by customers the most?"
            ],
            "metadata": {
                "language": "sql",
                "azdata_cell_guid": "cad2ff59-957d-47aa-aefc-92dceda546ac"
            },
            "attachments": {}
        },
        {
            "cell_type": "code",
            "source": [
                "SELECT COUNT(*) AS customers,Shipping_Type\r\n",
                "FROM shopping_trends\r\n",
                "GROUP BY Shipping_Type\r\n",
                "ORDER BY customers DESC"
            ],
            "metadata": {
                "language": "sql",
                "azdata_cell_guid": "4ceb05af-4384-423e-9f24-f4b641ae3887"
            },
            "outputs": [
                {
                    "output_type": "display_data",
                    "data": {
                        "text/html": "(6 rows affected)"
                    },
                    "metadata": {}
                },
                {
                    "output_type": "display_data",
                    "data": {
                        "text/html": "Total execution time: 00:00:00.021"
                    },
                    "metadata": {}
                },
                {
                    "output_type": "execute_result",
                    "metadata": {},
                    "execution_count": 10,
                    "data": {
                        "application/vnd.dataresource+json": {
                            "schema": {
                                "fields": [
                                    {
                                        "name": "customers"
                                    },
                                    {
                                        "name": "Shipping_Type"
                                    }
                                ]
                            },
                            "data": [
                                {
                                    "customers": "675",
                                    "Shipping_Type": "Free Shipping"
                                },
                                {
                                    "customers": "654",
                                    "Shipping_Type": "Standard"
                                },
                                {
                                    "customers": "650",
                                    "Shipping_Type": "Store Pickup"
                                },
                                {
                                    "customers": "648",
                                    "Shipping_Type": "Next Day Air"
                                },
                                {
                                    "customers": "646",
                                    "Shipping_Type": "Express"
                                },
                                {
                                    "customers": "627",
                                    "Shipping_Type": "2-Day Shipping"
                                }
                            ]
                        },
                        "text/html": [
                            "<table>",
                            "<tr><th>customers</th><th>Shipping_Type</th></tr>",
                            "<tr><td>675</td><td>Free Shipping</td></tr>",
                            "<tr><td>654</td><td>Standard</td></tr>",
                            "<tr><td>650</td><td>Store Pickup</td></tr>",
                            "<tr><td>648</td><td>Next Day Air</td></tr>",
                            "<tr><td>646</td><td>Express</td></tr>",
                            "<tr><td>627</td><td>2-Day Shipping</td></tr>",
                            "</table>"
                        ]
                    }
                }
            ],
            "execution_count": 10
        },
        {
            "cell_type": "markdown",
            "source": [
                "## 10\\. Which gender purchased the most?"
            ],
            "metadata": {
                "language": "sql",
                "azdata_cell_guid": "3ece9e1b-814f-45c2-ad24-c88b6258f134"
            },
            "attachments": {}
        },
        {
            "cell_type": "code",
            "source": [
                "SELECT COUNT(*) AS customers, Gender\r\n",
                "FROM shopping_trends\r\n",
                "GROUP BY gender\r\n",
                "ORDER BY customers DESC"
            ],
            "metadata": {
                "language": "sql",
                "azdata_cell_guid": "cfeece33-b151-46cc-8b8c-f7839a74c55e"
            },
            "outputs": [
                {
                    "output_type": "display_data",
                    "data": {
                        "text/html": "(2 rows affected)"
                    },
                    "metadata": {}
                },
                {
                    "output_type": "display_data",
                    "data": {
                        "text/html": "Total execution time: 00:00:00.024"
                    },
                    "metadata": {}
                },
                {
                    "output_type": "execute_result",
                    "metadata": {},
                    "execution_count": 12,
                    "data": {
                        "application/vnd.dataresource+json": {
                            "schema": {
                                "fields": [
                                    {
                                        "name": "customers"
                                    },
                                    {
                                        "name": "Gender"
                                    }
                                ]
                            },
                            "data": [
                                {
                                    "customers": "2652",
                                    "Gender": "Male"
                                },
                                {
                                    "customers": "1248",
                                    "Gender": "Female"
                                }
                            ]
                        },
                        "text/html": [
                            "<table>",
                            "<tr><th>customers</th><th>Gender</th></tr>",
                            "<tr><td>2652</td><td>Male</td></tr>",
                            "<tr><td>1248</td><td>Female</td></tr>",
                            "</table>"
                        ]
                    }
                }
            ],
            "execution_count": 12
        },
        {
            "cell_type": "markdown",
            "source": [
                "## 11. Which payment method is most preferred by customers?"
            ],
            "metadata": {
                "language": "sql",
                "azdata_cell_guid": "a6461d88-126a-4c9e-ab57-2779c822fdf2"
            },
            "attachments": {}
        },
        {
            "cell_type": "code",
            "source": [
                "SELECT COUNT(*) AS customers, Payment_Method\r\n",
                "FROM shopping_trends\r\n",
                "GROUP BY Payment_Method\r\n",
                "ORDER BY customers DESC"
            ],
            "metadata": {
                "language": "sql",
                "azdata_cell_guid": "3db78051-c3e7-459b-b235-0df6a3a3e0d9"
            },
            "outputs": [
                {
                    "output_type": "display_data",
                    "data": {
                        "text/html": "(6 rows affected)"
                    },
                    "metadata": {}
                },
                {
                    "output_type": "display_data",
                    "data": {
                        "text/html": "Total execution time: 00:00:00.028"
                    },
                    "metadata": {}
                },
                {
                    "output_type": "execute_result",
                    "metadata": {},
                    "execution_count": 11,
                    "data": {
                        "application/vnd.dataresource+json": {
                            "schema": {
                                "fields": [
                                    {
                                        "name": "customers"
                                    },
                                    {
                                        "name": "Payment_Method"
                                    }
                                ]
                            },
                            "data": [
                                {
                                    "customers": "677",
                                    "Payment_Method": "PayPal"
                                },
                                {
                                    "customers": "671",
                                    "Payment_Method": "Credit Card"
                                },
                                {
                                    "customers": "670",
                                    "Payment_Method": "Cash"
                                },
                                {
                                    "customers": "636",
                                    "Payment_Method": "Debit Card"
                                },
                                {
                                    "customers": "634",
                                    "Payment_Method": "Venmo"
                                },
                                {
                                    "customers": "612",
                                    "Payment_Method": "Bank Transfer"
                                }
                            ]
                        },
                        "text/html": [
                            "<table>",
                            "<tr><th>customers</th><th>Payment_Method</th></tr>",
                            "<tr><td>677</td><td>PayPal</td></tr>",
                            "<tr><td>671</td><td>Credit Card</td></tr>",
                            "<tr><td>670</td><td>Cash</td></tr>",
                            "<tr><td>636</td><td>Debit Card</td></tr>",
                            "<tr><td>634</td><td>Venmo</td></tr>",
                            "<tr><td>612</td><td>Bank Transfer</td></tr>",
                            "</table>"
                        ]
                    }
                }
            ],
            "execution_count": 11
        },
        {
            "cell_type": "markdown",
            "source": [
                "## 12\\. What is the total number of purchases for each category in each season?"
            ],
            "metadata": {
                "language": "sql",
                "azdata_cell_guid": "b7bcee45-5fe8-4964-981a-ff222d070eda"
            },
            "attachments": {}
        },
        {
            "cell_type": "code",
            "source": [
                "SELECT Category, Season,COUNT(*) AS customers\r\n",
                "FROM shopping_trends\r\n",
                "GROUP BY Season, Category\r\n",
                "ORDER BY customers DESC"
            ],
            "metadata": {
                "language": "sql",
                "azdata_cell_guid": "62a163cc-3a93-4717-937a-4fd975efa8a5"
            },
            "outputs": [
                {
                    "output_type": "display_data",
                    "data": {
                        "text/html": "(16 rows affected)"
                    },
                    "metadata": {}
                },
                {
                    "output_type": "display_data",
                    "data": {
                        "text/html": "Total execution time: 00:00:00.026"
                    },
                    "metadata": {}
                },
                {
                    "output_type": "execute_result",
                    "metadata": {},
                    "execution_count": 13,
                    "data": {
                        "application/vnd.dataresource+json": {
                            "schema": {
                                "fields": [
                                    {
                                        "name": "Category"
                                    },
                                    {
                                        "name": "Season"
                                    },
                                    {
                                        "name": "customers"
                                    }
                                ]
                            },
                            "data": [
                                {
                                    "Category": "Clothing",
                                    "Season": "Spring",
                                    "customers": "454"
                                },
                                {
                                    "Category": "Clothing",
                                    "Season": "Winter",
                                    "customers": "448"
                                },
                                {
                                    "Category": "Clothing",
                                    "Season": "Fall",
                                    "customers": "427"
                                },
                                {
                                    "Category": "Clothing",
                                    "Season": "Summer",
                                    "customers": "408"
                                },
                                {
                                    "Category": "Accessories",
                                    "Season": "Fall",
                                    "customers": "324"
                                },
                                {
                                    "Category": "Accessories",
                                    "Season": "Summer",
                                    "customers": "312"
                                },
                                {
                                    "Category": "Accessories",
                                    "Season": "Winter",
                                    "customers": "303"
                                },
                                {
                                    "Category": "Accessories",
                                    "Season": "Spring",
                                    "customers": "301"
                                },
                                {
                                    "Category": "Footwear",
                                    "Season": "Spring",
                                    "customers": "163"
                                },
                                {
                                    "Category": "Footwear",
                                    "Season": "Summer",
                                    "customers": "160"
                                },
                                {
                                    "Category": "Footwear",
                                    "Season": "Winter",
                                    "customers": "140"
                                },
                                {
                                    "Category": "Footwear",
                                    "Season": "Fall",
                                    "customers": "136"
                                },
                                {
                                    "Category": "Outerwear",
                                    "Season": "Fall",
                                    "customers": "88"
                                },
                                {
                                    "Category": "Outerwear",
                                    "Season": "Spring",
                                    "customers": "81"
                                },
                                {
                                    "Category": "Outerwear",
                                    "Season": "Winter",
                                    "customers": "80"
                                },
                                {
                                    "Category": "Outerwear",
                                    "Season": "Summer",
                                    "customers": "75"
                                }
                            ]
                        },
                        "text/html": [
                            "<table>",
                            "<tr><th>Category</th><th>Season</th><th>customers</th></tr>",
                            "<tr><td>Clothing</td><td>Spring</td><td>454</td></tr>",
                            "<tr><td>Clothing</td><td>Winter</td><td>448</td></tr>",
                            "<tr><td>Clothing</td><td>Fall</td><td>427</td></tr>",
                            "<tr><td>Clothing</td><td>Summer</td><td>408</td></tr>",
                            "<tr><td>Accessories</td><td>Fall</td><td>324</td></tr>",
                            "<tr><td>Accessories</td><td>Summer</td><td>312</td></tr>",
                            "<tr><td>Accessories</td><td>Winter</td><td>303</td></tr>",
                            "<tr><td>Accessories</td><td>Spring</td><td>301</td></tr>",
                            "<tr><td>Footwear</td><td>Spring</td><td>163</td></tr>",
                            "<tr><td>Footwear</td><td>Summer</td><td>160</td></tr>",
                            "<tr><td>Footwear</td><td>Winter</td><td>140</td></tr>",
                            "<tr><td>Footwear</td><td>Fall</td><td>136</td></tr>",
                            "<tr><td>Outerwear</td><td>Fall</td><td>88</td></tr>",
                            "<tr><td>Outerwear</td><td>Spring</td><td>81</td></tr>",
                            "<tr><td>Outerwear</td><td>Winter</td><td>80</td></tr>",
                            "<tr><td>Outerwear</td><td>Summer</td><td>75</td></tr>",
                            "</table>"
                        ]
                    }
                }
            ],
            "execution_count": 13
        },
        {
            "cell_type": "markdown",
            "source": [
                "## 13. What is the frequency of purchases by customers?"
            ],
            "metadata": {
                "language": "sql",
                "azdata_cell_guid": "82ea01a6-f1b2-4a0f-a3fb-054e24cda9f1"
            },
            "attachments": {}
        },
        {
            "cell_type": "code",
            "source": [
                "SELECT COUNT(*) AS customers, Frequency_of_Purchases\r\n",
                "FROM shopping_trends\r\n",
                "GROUP BY Frequency_of_Purchases\r\n",
                "ORDER BY customers DESC"
            ],
            "metadata": {
                "language": "sql",
                "azdata_cell_guid": "b2bc03a6-94ee-497b-9901-2d1050704dd7"
            },
            "outputs": [
                {
                    "output_type": "display_data",
                    "data": {
                        "text/html": "(7 rows affected)"
                    },
                    "metadata": {}
                },
                {
                    "output_type": "display_data",
                    "data": {
                        "text/html": "Total execution time: 00:00:00.019"
                    },
                    "metadata": {}
                },
                {
                    "output_type": "execute_result",
                    "metadata": {},
                    "execution_count": 14,
                    "data": {
                        "application/vnd.dataresource+json": {
                            "schema": {
                                "fields": [
                                    {
                                        "name": "customers"
                                    },
                                    {
                                        "name": "Frequency_of_Purchases"
                                    }
                                ]
                            },
                            "data": [
                                {
                                    "customers": "584",
                                    "Frequency_of_Purchases": "Every 3 Months"
                                },
                                {
                                    "customers": "572",
                                    "Frequency_of_Purchases": "Annually"
                                },
                                {
                                    "customers": "563",
                                    "Frequency_of_Purchases": "Quarterly"
                                },
                                {
                                    "customers": "553",
                                    "Frequency_of_Purchases": "Monthly"
                                },
                                {
                                    "customers": "547",
                                    "Frequency_of_Purchases": "Bi-Weekly"
                                },
                                {
                                    "customers": "542",
                                    "Frequency_of_Purchases": "Fortnightly"
                                },
                                {
                                    "customers": "539",
                                    "Frequency_of_Purchases": "Weekly"
                                }
                            ]
                        },
                        "text/html": [
                            "<table>",
                            "<tr><th>customers</th><th>Frequency_of_Purchases</th></tr>",
                            "<tr><td>584</td><td>Every 3 Months</td></tr>",
                            "<tr><td>572</td><td>Annually</td></tr>",
                            "<tr><td>563</td><td>Quarterly</td></tr>",
                            "<tr><td>553</td><td>Monthly</td></tr>",
                            "<tr><td>547</td><td>Bi-Weekly</td></tr>",
                            "<tr><td>542</td><td>Fortnightly</td></tr>",
                            "<tr><td>539</td><td>Weekly</td></tr>",
                            "</table>"
                        ]
                    }
                }
            ],
            "execution_count": 14
        },
        {
            "cell_type": "markdown",
            "source": [
                "## 14\\. What are the top 5 highest total purchase amounts by cities?"
            ],
            "metadata": {
                "language": "sql",
                "azdata_cell_guid": "a243316a-d805-4f60-bd67-829e5d5f18a2"
            },
            "attachments": {}
        },
        {
            "cell_type": "code",
            "source": [
                "SELECT TOP 5 SUM(Purchase_Amount) AS Total_Amount, Location\r\n",
                "FROM shopping_trends\r\n",
                "GROUP BY Location\r\n",
                "ORDER BY Total_Amount DESC"
            ],
            "metadata": {
                "language": "sql",
                "azdata_cell_guid": "9940aa92-90aa-4eba-817c-f8e797494e79"
            },
            "outputs": [
                {
                    "output_type": "display_data",
                    "data": {
                        "text/html": "(5 rows affected)"
                    },
                    "metadata": {}
                },
                {
                    "output_type": "display_data",
                    "data": {
                        "text/html": "Total execution time: 00:00:00.027"
                    },
                    "metadata": {}
                },
                {
                    "output_type": "execute_result",
                    "metadata": {},
                    "execution_count": 15,
                    "data": {
                        "application/vnd.dataresource+json": {
                            "schema": {
                                "fields": [
                                    {
                                        "name": "Total_Amount"
                                    },
                                    {
                                        "name": "Location"
                                    }
                                ]
                            },
                            "data": [
                                {
                                    "Total_Amount": "5784",
                                    "Location": "Montana"
                                },
                                {
                                    "Total_Amount": "5617",
                                    "Location": "Illinois"
                                },
                                {
                                    "Total_Amount": "5605",
                                    "Location": "California"
                                },
                                {
                                    "Total_Amount": "5587",
                                    "Location": "Idaho"
                                },
                                {
                                    "Total_Amount": "5514",
                                    "Location": "Nevada"
                                }
                            ]
                        },
                        "text/html": [
                            "<table>",
                            "<tr><th>Total_Amount</th><th>Location</th></tr>",
                            "<tr><td>5784</td><td>Montana</td></tr>",
                            "<tr><td>5617</td><td>Illinois</td></tr>",
                            "<tr><td>5605</td><td>California</td></tr>",
                            "<tr><td>5587</td><td>Idaho</td></tr>",
                            "<tr><td>5514</td><td>Nevada</td></tr>",
                            "</table>"
                        ]
                    }
                }
            ],
            "execution_count": 15
        },
        {
            "cell_type": "markdown",
            "source": [
                "## 15\\. What is the total purchase amount by category?"
            ],
            "metadata": {
                "language": "sql",
                "azdata_cell_guid": "4521f2a6-7221-4ad1-9093-453ca1e4be1a"
            },
            "attachments": {}
        },
        {
            "cell_type": "code",
            "source": [
                "SELECT SUM(Purchase_Amount) AS Purchase_Amount, Category\r\n",
                "FROM shopping_trends\r\n",
                "GROUP BY Category\r\n",
                "ORDER BY Purchase_Amount DESC"
            ],
            "metadata": {
                "language": "sql",
                "azdata_cell_guid": "1c9a44dd-bf3f-4adb-9da5-9161b3cd3033"
            },
            "outputs": [
                {
                    "output_type": "display_data",
                    "data": {
                        "text/html": "(4 rows affected)"
                    },
                    "metadata": {}
                },
                {
                    "output_type": "display_data",
                    "data": {
                        "text/html": "Total execution time: 00:00:00.016"
                    },
                    "metadata": {}
                },
                {
                    "output_type": "execute_result",
                    "metadata": {},
                    "execution_count": 17,
                    "data": {
                        "application/vnd.dataresource+json": {
                            "schema": {
                                "fields": [
                                    {
                                        "name": "Purchase_Amount"
                                    },
                                    {
                                        "name": "Category"
                                    }
                                ]
                            },
                            "data": [
                                {
                                    "Purchase_Amount": "104264",
                                    "Category": "Clothing"
                                },
                                {
                                    "Purchase_Amount": "74200",
                                    "Category": "Accessories"
                                },
                                {
                                    "Purchase_Amount": "36093",
                                    "Category": "Footwear"
                                },
                                {
                                    "Purchase_Amount": "18524",
                                    "Category": "Outerwear"
                                }
                            ]
                        },
                        "text/html": [
                            "<table>",
                            "<tr><th>Purchase_Amount</th><th>Category</th></tr>",
                            "<tr><td>104264</td><td>Clothing</td></tr>",
                            "<tr><td>74200</td><td>Accessories</td></tr>",
                            "<tr><td>36093</td><td>Footwear</td></tr>",
                            "<tr><td>18524</td><td>Outerwear</td></tr>",
                            "</table>"
                        ]
                    }
                }
            ],
            "execution_count": 17
        },
        {
            "cell_type": "markdown",
            "source": [
                "## 16\\. What is the subscription status of customers by gender?"
            ],
            "metadata": {
                "language": "sql",
                "azdata_cell_guid": "62e03541-e895-44ac-9a42-44ab68d4dac0"
            },
            "attachments": {}
        },
        {
            "cell_type": "code",
            "source": [
                "SELECT Subscription_Status, Gender,COUNT(*) AS customers\r\n",
                "FROM shopping_trends\r\n",
                "GROUP BY Subscription_Status, Gender"
            ],
            "metadata": {
                "language": "sql",
                "azdata_cell_guid": "3695bfdb-4336-41af-bbb1-23ddf0ef60b1",
                "tags": [
                    "hide_input"
                ]
            },
            "outputs": [
                {
                    "output_type": "display_data",
                    "data": {
                        "text/html": "(3 rows affected)"
                    },
                    "metadata": {}
                },
                {
                    "output_type": "display_data",
                    "data": {
                        "text/html": "Total execution time: 00:00:00.028"
                    },
                    "metadata": {}
                },
                {
                    "output_type": "execute_result",
                    "metadata": {},
                    "execution_count": 16,
                    "data": {
                        "application/vnd.dataresource+json": {
                            "schema": {
                                "fields": [
                                    {
                                        "name": "Subscription_Status"
                                    },
                                    {
                                        "name": "Gender"
                                    },
                                    {
                                        "name": "customers"
                                    }
                                ]
                            },
                            "data": [
                                {
                                    "Subscription_Status": "Yes",
                                    "Gender": "Male",
                                    "customers": "1053"
                                },
                                {
                                    "Subscription_Status": "No",
                                    "Gender": "Male",
                                    "customers": "1599"
                                },
                                {
                                    "Subscription_Status": "No",
                                    "Gender": "Female",
                                    "customers": "1248"
                                }
                            ]
                        },
                        "text/html": [
                            "<table>",
                            "<tr><th>Subscription_Status</th><th>Gender</th><th>customers</th></tr>",
                            "<tr><td>Yes</td><td>Male</td><td>1053</td></tr>",
                            "<tr><td>No</td><td>Male</td><td>1599</td></tr>",
                            "<tr><td>No</td><td>Female</td><td>1248</td></tr>",
                            "</table>"
                        ]
                    }
                }
            ],
            "execution_count": 16
        },
        {
            "cell_type": "markdown",
            "source": [
                "## 17\\. Which season had the most purchases?"
            ],
            "metadata": {
                "language": "sql",
                "azdata_cell_guid": "2a60ba77-d700-44eb-bb08-f40a9a052c4f"
            },
            "attachments": {}
        },
        {
            "cell_type": "code",
            "source": [
                "SELECT COUNT(*) AS customers,Season\r\n",
                "FROM shopping_trends\r\n",
                "GROUP BY Season\r\n",
                "ORDER BY customers DESC"
            ],
            "metadata": {
                "language": "sql",
                "azdata_cell_guid": "2bbc5dcf-c5c7-4a0d-8b51-3ad27cf06b7f"
            },
            "outputs": [
                {
                    "output_type": "display_data",
                    "data": {
                        "text/html": "(4 rows affected)"
                    },
                    "metadata": {}
                },
                {
                    "output_type": "display_data",
                    "data": {
                        "text/html": "Total execution time: 00:00:00.024"
                    },
                    "metadata": {}
                },
                {
                    "output_type": "execute_result",
                    "metadata": {},
                    "execution_count": 18,
                    "data": {
                        "application/vnd.dataresource+json": {
                            "schema": {
                                "fields": [
                                    {
                                        "name": "customers"
                                    },
                                    {
                                        "name": "Season"
                                    }
                                ]
                            },
                            "data": [
                                {
                                    "customers": "999",
                                    "Season": "Spring"
                                },
                                {
                                    "customers": "975",
                                    "Season": "Fall"
                                },
                                {
                                    "customers": "971",
                                    "Season": "Winter"
                                },
                                {
                                    "customers": "955",
                                    "Season": "Summer"
                                }
                            ]
                        },
                        "text/html": [
                            "<table>",
                            "<tr><th>customers</th><th>Season</th></tr>",
                            "<tr><td>999</td><td>Spring</td></tr>",
                            "<tr><td>975</td><td>Fall</td></tr>",
                            "<tr><td>971</td><td>Winter</td></tr>",
                            "<tr><td>955</td><td>Summer</td></tr>",
                            "</table>"
                        ]
                    }
                }
            ],
            "execution_count": 18
        },
        {
            "cell_type": "markdown",
            "source": [
                "## 18\\. How many customers made the most purchases in each Category and Gender?"
            ],
            "metadata": {
                "language": "sql",
                "azdata_cell_guid": "a3b623b7-b7f3-45d3-9f1b-c1c7ca99c1f1"
            },
            "attachments": {}
        },
        {
            "cell_type": "code",
            "source": [
                "SELECT Category,Gender,COUNT(*) AS customers\r\n",
                "FROM shopping_trends\r\n",
                "GROUP BY Category, Gender\r\n",
                "ORDER BY customers DESC"
            ],
            "metadata": {
                "language": "sql",
                "azdata_cell_guid": "7fdb882c-c0b1-4fc7-82b4-673b4d826757"
            },
            "outputs": [
                {
                    "output_type": "display_data",
                    "data": {
                        "text/html": "(8 rows affected)"
                    },
                    "metadata": {}
                },
                {
                    "output_type": "display_data",
                    "data": {
                        "text/html": "Total execution time: 00:00:00.029"
                    },
                    "metadata": {}
                },
                {
                    "output_type": "execute_result",
                    "metadata": {},
                    "execution_count": 19,
                    "data": {
                        "application/vnd.dataresource+json": {
                            "schema": {
                                "fields": [
                                    {
                                        "name": "Category"
                                    },
                                    {
                                        "name": "Gender"
                                    },
                                    {
                                        "name": "customers"
                                    }
                                ]
                            },
                            "data": [
                                {
                                    "Category": "Clothing",
                                    "Gender": "Male",
                                    "customers": "1181"
                                },
                                {
                                    "Category": "Accessories",
                                    "Gender": "Male",
                                    "customers": "848"
                                },
                                {
                                    "Category": "Clothing",
                                    "Gender": "Female",
                                    "customers": "556"
                                },
                                {
                                    "Category": "Footwear",
                                    "Gender": "Male",
                                    "customers": "400"
                                },
                                {
                                    "Category": "Accessories",
                                    "Gender": "Female",
                                    "customers": "392"
                                },
                                {
                                    "Category": "Outerwear",
                                    "Gender": "Male",
                                    "customers": "223"
                                },
                                {
                                    "Category": "Footwear",
                                    "Gender": "Female",
                                    "customers": "199"
                                },
                                {
                                    "Category": "Outerwear",
                                    "Gender": "Female",
                                    "customers": "101"
                                }
                            ]
                        },
                        "text/html": [
                            "<table>",
                            "<tr><th>Category</th><th>Gender</th><th>customers</th></tr>",
                            "<tr><td>Clothing</td><td>Male</td><td>1181</td></tr>",
                            "<tr><td>Accessories</td><td>Male</td><td>848</td></tr>",
                            "<tr><td>Clothing</td><td>Female</td><td>556</td></tr>",
                            "<tr><td>Footwear</td><td>Male</td><td>400</td></tr>",
                            "<tr><td>Accessories</td><td>Female</td><td>392</td></tr>",
                            "<tr><td>Outerwear</td><td>Male</td><td>223</td></tr>",
                            "<tr><td>Footwear</td><td>Female</td><td>199</td></tr>",
                            "<tr><td>Outerwear</td><td>Female</td><td>101</td></tr>",
                            "</table>"
                        ]
                    }
                }
            ],
            "execution_count": 19
        },
        {
            "cell_type": "markdown",
            "source": [
                "## 19\\. What is the average review of each category?"
            ],
            "metadata": {
                "azdata_cell_guid": "53c00e32-7286-40ae-8e4d-5e7e98e6dcb3"
            },
            "attachments": {}
        },
        {
            "cell_type": "code",
            "source": [
                "SELECT ROUND(AVG(Review_Rating),1) AS Avg_Review,Category\r\n",
                "FROM shopping_trends\r\n",
                "GROUP BY Category"
            ],
            "metadata": {
                "azdata_cell_guid": "dfee7eb8-b600-4f1a-bb85-f1bc88e0d0f4",
                "language": "sql"
            },
            "outputs": [
                {
                    "output_type": "display_data",
                    "data": {
                        "text/html": "(4 rows affected)"
                    },
                    "metadata": {}
                },
                {
                    "output_type": "display_data",
                    "data": {
                        "text/html": "Total execution time: 00:00:00.029"
                    },
                    "metadata": {}
                },
                {
                    "output_type": "execute_result",
                    "metadata": {},
                    "execution_count": 20,
                    "data": {
                        "application/vnd.dataresource+json": {
                            "schema": {
                                "fields": [
                                    {
                                        "name": "Avg_Review"
                                    },
                                    {
                                        "name": "Category"
                                    }
                                ]
                            },
                            "data": [
                                {
                                    "Avg_Review": "3.7",
                                    "Category": "Clothing"
                                },
                                {
                                    "Avg_Review": "3.8",
                                    "Category": "Accessories"
                                },
                                {
                                    "Avg_Review": "3.7",
                                    "Category": "Outerwear"
                                },
                                {
                                    "Avg_Review": "3.8",
                                    "Category": "Footwear"
                                }
                            ]
                        },
                        "text/html": [
                            "<table>",
                            "<tr><th>Avg_Review</th><th>Category</th></tr>",
                            "<tr><td>3.7</td><td>Clothing</td></tr>",
                            "<tr><td>3.8</td><td>Accessories</td></tr>",
                            "<tr><td>3.7</td><td>Outerwear</td></tr>",
                            "<tr><td>3.8</td><td>Footwear</td></tr>",
                            "</table>"
                        ]
                    }
                }
            ],
            "execution_count": 20
        }
    ]
}